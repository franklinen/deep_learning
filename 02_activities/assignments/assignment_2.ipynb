{
 "cells": [
  {
   "cell_type": "markdown",
   "id": "7c6788aef474ca12",
   "metadata": {
    "collapsed": false,
    "id": "7c6788aef474ca12"
   },
   "source": [
    "# Text Generation with Recurrent Neural Networks (RNNs)\n",
    "\n",
    "In this assignment, you'll build upon your understanding of RNNs and Keras to develop a word-level text generation model.  Your goal is to train a model that learns the stylistic nuances of a chosen corpus and generates new, original text segments that echo the source material's essence.\n",
    "\n",
    "**Datasets**\n",
    "\n",
    "We've provided several intriguing text corpora to get you started:\n",
    "\n",
    "*   Mark Twain\n",
    "*   Charles Dickens\n",
    "*   William Shakespeare\n",
    "\n",
    "**Feel free to explore!**  If you have a particular passion for another author, genre, or a specific text, you're encouraged to use your own dataset of raw text."
   ]
  },
  {
   "cell_type": "code",
   "execution_count": 81,
   "id": "2d0bfedcfe52aedc",
   "metadata": {
    "colab": {
     "base_uri": "https://localhost:8080/"
    },
    "id": "2d0bfedcfe52aedc",
    "outputId": "eef898b3-cf85-43d1-9715-30194b9932d3"
   },
   "outputs": [
    {
     "name": "stdout",
     "output_type": "stream",
     "text": [
      "No GPU available. If you're on Colab, go to Runtime > Change runtime and select a GPU hardware accelerator.\n"
     ]
    }
   ],
   "source": [
    "# Check if we have a GPU available\n",
    "import tensorflow as tf\n",
    "if tf.test.gpu_device_name() == 'AMD Radeon(TM) Graphics':\n",
    "    print('Default GPU Device: {}'.format(tf.test.gpu_device_name()))\n",
    "else:\n",
    "    print(\"No GPU available. If you're on Colab, go to Runtime > Change runtime and select a GPU hardware accelerator.\")"
   ]
  },
  {
   "cell_type": "code",
   "execution_count": 82,
   "id": "9c28c497f620b775",
   "metadata": {
    "ExecuteTime": {
     "end_time": "2024-02-08T21:30:44.959803Z",
     "start_time": "2024-02-08T21:30:44.701343Z"
    },
    "id": "9c28c497f620b775"
   },
   "outputs": [],
   "source": [
    "def download_file(url, file_path):\n",
    "    import requests\n",
    "    r = requests.get(url)\n",
    "    with open(file_path, 'wb') as f:\n",
    "        f.write(r.content)\n",
    "\n",
    "def load_dataset(file_path, fraction=1.0):\n",
    "    with open(file_path, 'r', encoding='utf-8') as f:\n",
    "        raw_text = f.read()\n",
    "    return raw_text[:int(fraction * len(raw_text))]\n",
    "\n",
    "dataset = 'shakespeare.txt' # Other options are mark_twain.txt, charles_dickens.txt\n",
    "\n",
    "download_file(f'https://github.com/UofT-DSI/deep_learning/raw/main/assignments/downloaded_books/' + dataset, dataset)\n",
    "\n",
    "# Load chosen dataset. NOTE: If Colab is running out of memory, change the `fraction` parameter to a value between 0 and 1 to load less data.\n",
    "text = load_dataset(dataset, fraction=0.1)"
   ]
  },
  {
   "cell_type": "markdown",
   "id": "dab51c764031e606",
   "metadata": {
    "collapsed": false,
    "id": "dab51c764031e606"
   },
   "source": [
    "# 1. Data Preparation (Complete or Incomplete)\n",
    "\n",
    "Before we can begin training an RNN model, we need to prepare the dataset. This involves cleaning the text, tokenizing words, and creating sequences the model can be trained on.\n",
    "\n",
    "## 1.1 Data Exploration\n",
    "\n",
    "Print the first 1000 characters of the dataset. Report the dataset's size and the number of unique characters it contains."
   ]
  },
  {
   "cell_type": "code",
   "execution_count": 83,
   "id": "BunkZmdkl0Wn",
   "metadata": {
    "colab": {
     "base_uri": "https://localhost:8080/"
    },
    "id": "BunkZmdkl0Wn",
    "outputId": "e429a49a-9334-4484-bd6b-2ce40c8298c1"
   },
   "outputs": [
    {
     "name": "stdout",
     "output_type": "stream",
     "text": [
      "\n",
      "\n",
      "\n",
      "\n",
      "\n",
      "\n",
      "\n",
      "<!DOCTYPE html>\n",
      "<html\n",
      "  lang=\"en\"\n",
      "  \n",
      "  data-color-mode=\"auto\" data-light-theme=\"light\" data-dark-theme=\"dark\"\n",
      "  data-a11y-animated-images=\"system\" data-a11y-link-underlines=\"true\"\n",
      "  \n",
      "  >\n",
      "\n",
      "\n",
      "\n",
      "  <head>\n",
      "    <meta charset=\"utf-8\">\n",
      "  <link rel=\"dns-prefetch\" href=\"https://github.githubassets.com\">\n",
      "  <link rel=\"dns-prefetch\" href=\"https://avatars.githubusercontent.com\">\n",
      "  <link rel=\"dns-prefetch\" href=\"https://github-cloud.s3.amazonaws.com\">\n",
      "  <link rel=\"dns-prefetch\" href=\"https://user-images.githubusercontent.com/\">\n",
      "  <link rel=\"preconnect\" href=\"https://github.githubassets.com\" crossorigin>\n",
      "  <link rel=\"preconnect\" href=\"https://avatars.githubusercontent.com\">\n",
      "\n",
      "      <link rel=\"preload\" href=\"https://github.githubassets.com/assets/global-banner-disable-f988792be49f.js\" as=\"script\" crossorigin>\n",
      "\n",
      "  <link rel=\"preload\" href=\"https://github.githubassets.com/assets/mona-sans-d1bf285e9b9b.woff2\" as=\"font\" type=\"font/woff2\" crossorigin>\n",
      "\n",
      "\n",
      "  <link crossorigin=\"anonymous\" media=\"all\" rel=\"st\n",
      "27071\n",
      "Number of unique characters: 88\n"
     ]
    }
   ],
   "source": [
    "# Your code here\n",
    "\n",
    "text_1000 = text[:1000]\n",
    "print(text_1000)\n",
    "\n",
    "print(len(text))\n",
    "\n",
    "# Count the number of unique characters\n",
    "unique_characters = len(set(text))\n",
    "print(f\"Number of unique characters: {unique_characters}\")"
   ]
  },
  {
   "cell_type": "markdown",
   "id": "3ae1639f5ecfe587",
   "metadata": {
    "collapsed": false,
    "id": "3ae1639f5ecfe587"
   },
   "source": [
    "## 1.2 Text Pre-Processing\n",
    "\n",
    "To prepare the dataset for training, we need to clean the text and create a numerical representation the model can interpret. Perform the following pre-processing steps:\n",
    "\n",
    "*   Convert the entire text to lowercase.\n",
    "*   Use the `Tokenizer` class from the `keras.preprocessing.text` module to tokenize the text. You should fit the tokenizer on the text and then convert the text to a sequence of numbers. You can use the `texts_to_sequences` method to do this.\n",
    "\n",
    "**Note**:\n",
    "* You'll need to specify an appropriate size for the vocabulary. The number of words in the list of most common words can serve as a guide - does it seem like a reasonable vocabulary size?\n",
    "* Some of the words will be excluded from the vocabulary, as they don't appear often enough. It's important to provide a value for `oov_token` when creating the Tokenizer instance, so that these words can be represented as \"unknown\"."
   ]
  },
  {
   "cell_type": "code",
   "execution_count": 84,
   "id": "4d0d30cd98ea453c",
   "metadata": {
    "id": "4d0d30cd98ea453c"
   },
   "outputs": [],
   "source": [
    "from keras.preprocessing.text import Tokenizer\n",
    "\n",
    "# Your code here\n",
    "VOCAB_SIZE = 10000\n",
    "OOV_TOKEN = \"<OOV>\"\n",
    "\n",
    "text = text.lower()\n",
    "\n",
    "tokenizer = Tokenizer(num_words=VOCAB_SIZE, oov_token=OOV_TOKEN)\n",
    "\n",
    "tokenizer.fit_on_texts([text])"
   ]
  },
  {
   "cell_type": "markdown",
   "id": "89d32bb9356f711",
   "metadata": {
    "collapsed": false,
    "id": "89d32bb9356f711"
   },
   "source": [
    "If everything worked, the following line should show you the first 10 words in the vocabulary:"
   ]
  },
  {
   "cell_type": "code",
   "execution_count": 85,
   "id": "6a7cd547a19feece",
   "metadata": {
    "colab": {
     "base_uri": "https://localhost:8080/"
    },
    "id": "6a7cd547a19feece",
    "outputId": "1f52c24c-fe9d-4074-a6b9-2be1b36a172e"
   },
   "outputs": [
    {
     "name": "stdout",
     "output_type": "stream",
     "text": [
      "[('<OOV>', 1), ('github', 2), ('script', 3), ('com', 4), ('https', 5), ('js', 6), ('defer', 7), ('assets', 8), ('githubassets', 9), ('crossorigin', 10)]\n"
     ]
    }
   ],
   "source": [
    "try:\n",
    "    print(list(tokenizer.word_index.items())[:10])\n",
    "except AttributeError:\n",
    "    print(\"Tokenizer has not been initialized. Possible issue: Complete the relevant section of the assignment to initialize it.\"\n",
    ")\n"
   ]
  },
  {
   "cell_type": "markdown",
   "id": "da504e4bc6617613",
   "metadata": {
    "collapsed": false,
    "id": "da504e4bc6617613"
   },
   "source": [
    "## 1.3 Sequence Generation\n",
    "\n",
    "Now that the text has been tokenized, we need to create sequences the model can be trained on. There are two parts to this:\n",
    "\n",
    "*   Use the `texts_to_sequences` method from the tokenizer to convert the text to a list of sequences of numbers.\n",
    "*   Generate the training sequences. Each training sequence should contain `SEQ_LENGTH` token IDs from the text. The target token for each sequence should be the word that follows the sequence in the text."
   ]
  },
  {
   "cell_type": "code",
   "execution_count": null,
   "id": "4ff5fc8d0273709c",
   "metadata": {
    "id": "4ff5fc8d0273709c"
   },
   "outputs": [],
   "source": [
    "SEQ_LENGTH = 50 # Choose an appropriate sequence length\n",
    "\n",
    "# Convert the text to a list of sequences of numbers\n",
    "sequences = tokenizer.texts_to_sequences([text])\n",
    "\n",
    "# Generate the training sequences\n",
    "X = []\n",
    "y = []\n",
    "# Your code here\n",
    "\n",
    "sequences = [item for sublist in sequences for item in sublist]\n",
    "\n",
    "for i in range(SEQ_LENGTH, len(sequences)):\n",
    "    X.append(sequences[i - SEQ_LENGTH:i])  # Previous `SEQ_LENGTH` tokens\n",
    "    y.append(sequences[i])  # The next token\n",
    "\n"
   ]
  },
  {
   "cell_type": "code",
   "execution_count": 90,
   "id": "f99f6749",
   "metadata": {},
   "outputs": [
    {
     "name": "stdout",
     "output_type": "stream",
     "text": [
      "Generated sequences: [347, 109, 109, 348, 231, 16, 39, 232, 90, 16, 54, 56, 54, 16, 50, 56, 50, 16, 233, 349, 234, 350, 16, 233, 22, 351, 46, 235, 15, 352, 353, 236, 22, 28, 136, 137, 26, 5, 2, 9, 4, 22, 28, 136, 137, 26, 5, 237, 179, 4, 22, 28, 136, 137, 26, 5, 2, 354, 355, 356, 4, 22, 28, 136, 137, 26, 5, 138, 234, 179, 4, 22, 28, 238, 26, 5, 2, 9, 4, 10, 22, 28, 238, 26, 5, 237, 179, 4, 22, 28, 239, 26, 5, 2, 9, 4, 8, 139, 240, 357, 358, 6, 241, 3, 10, 22, 28, 239, 26, 5, 2, 9, 4, 8, 359, 360, 361, 242, 241, 243, 14, 243, 242, 10, 22, 10, 12, 42, 43, 28, 44, 26, 5, 2, 9, 4, 8, 54, 362, 40, 22, 10, 12, 42, 43, 28, 44, 26, 5, 2, 9, 4, 8, 50, 363, 40, 22, 16, 39, 56, 50, 244, 10, 12, 42, 43, 28, 44, 16, 26, 5, 2, 9, 4, 8, 50, 244, 364, 40, 22, 16, 39, 56, 50, 140, 141, 10, 12, 42, 43, 28, 44, 16, 26, 5, 2, 9, 4, 8, 50, 140, 141, 365, 40, 22, 16, 39, 56, 50, 142, 10, 12, 42, 43, 28, 44, 16, 26, 5, 2, 9, 4, 8, 50, 142, 366, 40, 22, 16, 39, 56, 54, 142, 10, 12, 42, 43, 28, 44, 16, 26, 5, 2, 9, 4, 8, 54, 142, 367, 40, 22, 16, 39, 56, 54, 140, 141, 10, 12, 42, 43, 28, 44, 16, 26, 5, 2, 9, 4, 8, 54, 140, 141, 368, 40, 22, 16, 39, 56, 54, 143, 10, 12, 42, 43, 28, 44, 16, 26, 5, 2, 9, 4, 8, 54, 143, 369, 40, 22, 16, 39, 56, 50, 143, 10, 12, 42, 43, 28, 44, 16, 26, 5, 2, 9, 4, 8, 50, 143, 370, 40, 22, 10, 12, 42, 43, 28, 44, 26, 5, 2, 9, 4, 8, 91, 371, 372, 40, 22, 10, 12, 42, 43, 28, 44, 26, 5, 2, 9, 4, 8, 91, 373, 40, 22, 10, 12, 42, 43, 28, 44, 26, 5, 2, 9, 4, 8, 139, 374, 40, 22, 10, 12, 42, 43, 28, 44, 26, 5, 2, 9, 4, 8, 2, 375, 40, 22, 10, 12, 42, 43, 28, 44, 26, 5, 2, 9, 4, 8, 144, 376, 40, 3, 14, 19, 180, 65, 181, 145, 377, 231, 378, 61, 245, 379, 146, 61, 380, 246, 381, 110, 61, 382, 383, 384, 385, 61, 386, 247, 387, 388, 61, 389, 248, 61, 390, 391, 247, 392, 249, 393, 394, 182, 395, 396, 183, 397, 249, 398, 250, 251, 252, 253, 92, 250, 251, 252, 253, 399, 254, 255, 147, 51, 245, 400, 147, 51, 401, 402, 147, 51, 256, 403, 147, 51, 404, 148, 405, 111, 406, 112, 407, 257, 408, 409, 51, 113, 114, 184, 256, 410, 411, 412, 413, 414, 14, 66, 415, 416, 417, 418, 67, 29, 419, 3, 3, 10, 12, 7, 7, 14, 19, 20, 21, 5, 2, 9, 4, 8, 420, 421, 422, 6, 3, 3, 10, 12, 7, 7, 14, 19, 20, 21, 5, 2, 9, 4, 8, 32, 23, 18, 423, 31, 424, 6, 425, 6, 3, 3, 10, 12, 7, 7, 14, 19, 20, 21, 5, 2, 9, 4, 8, 32, 23, 18, 258, 149, 150, 31, 149, 6, 426, 6, 3, 3, 10, 12, 7, 7, 14, 19, 20, 21, 5, 2, 9, 4, 8, 32, 23, 18, 2, 259, 150, 259, 150, 6, 23, 18, 2, 427, 428, 429, 6, 3, 3, 10, 12, 7, 7, 14, 19, 20, 21, 5, 2, 9, 4, 8, 146, 185, 182, 182, 78, 430, 6, 3, 3, 10, 12, 7, 7, 14, 19, 20, 21, 5, 2, 9, 4, 8, 431, 432, 6, 3, 3, 10, 12, 7, 7, 14, 19, 20, 21, 5, 2, 9, 4, 8, 32, 23, 18, 91, 79, 31, 115, 45, 433, 434, 6, 3, 3, 10, 12, 7, 7, 14, 19, 20, 21, 5, 2, 9, 4, 8, 32, 23, 18, 2, 435, 436, 31, 45, 115, 6, 437, 6, 3, 3, 10, 12, 7, 7, 14, 19, 20, 21, 5, 2, 9, 4, 8, 32, 23, 18, 2, 80, 438, 81, 31, 45, 6, 439, 6, 3, 3, 10, 12, 7, 7, 14, 19, 20, 21, 5, 2, 9, 4, 8, 32, 23, 18, 2, 440, 72, 31, 45, 6, 23, 18, 2, 441, 442, 81, 443, 444, 445, 6, 3, 3, 10, 12, 7, 7, 14, 19, 20, 21, 5, 2, 9, 4, 8, 32, 23, 18, 2, 90, 446, 81, 31, 45, 6, 23, 18, 2, 260, 447, 448, 6, 3, 3, 10, 12, 7, 7, 14, 19, 20, 21, 5, 2, 9, 4, 8, 32, 23, 18, 2, 261, 449, 81, 31, 45, 6, 450, 6, 3, 3, 10, 12, 7, 7, 14, 19, 20, 21, 5, 2, 9, 4, 8, 32, 23, 18, 2, 451, 452, 81, 31, 45, 6, 23, 18, 2, 186, 453, 454, 455, 6, 3, 3, 10, 12, 7, 7, 14, 19, 20, 21, 5, 2, 9, 4, 8, 32, 23, 18, 2, 187, 188, 31, 45, 6, 23, 18, 189, 262, 31, 263, 456, 457, 6, 3, 3, 10, 12, 7, 7, 14, 19, 20, 21, 5, 2, 9, 4, 8, 32, 23, 18, 2, 458, 459, 81, 31, 45, 6, 23, 18, 91, 82, 460, 461, 462, 6, 3, 3, 10, 12, 7, 7, 14, 19, 20, 21, 5, 2, 9, 4, 8, 2, 463, 464, 6, 3, 3, 10, 12, 7, 7, 14, 19, 20, 21, 5, 2, 9, 4, 8, 81, 465, 466, 6, 3, 3, 10, 12, 7, 7, 14, 19, 20, 21, 5, 2, 9, 4, 8, 32, 23, 18, 467, 93, 264, 31, 93, 264, 6, 23, 18, 468, 469, 470, 6, 3, 3, 10, 12, 7, 7, 14, 19, 20, 21, 5, 2, 9, 4, 8, 32, 23, 18, 265, 109, 265, 109, 6, 471, 6, 3, 3, 10, 12, 7, 7, 14, 19, 20, 21, 5, 2, 9, 4, 8, 32, 23, 18, 2, 190, 116, 181, 31, 116, 181, 6, 23, 18, 472, 473, 474, 6, 3, 3, 10, 12, 7, 7, 14, 19, 20, 21, 5, 2, 9, 4, 8, 32, 23, 18, 2, 187, 188, 31, 45, 6, 23, 18, 266, 31, 266, 475, 476, 477, 6, 3, 3, 10, 12, 7, 7, 14, 19, 20, 21, 5, 2, 9, 4, 8, 32, 23, 18, 2, 36, 31, 36, 478, 115, 6, 479, 6, 3, 3, 10, 12, 7, 7, 14, 19, 20, 21, 5, 2, 9, 4, 8, 32, 23, 18, 2, 186, 267, 31, 45, 6, 23, 18, 191, 192, 31, 268, 480, 481, 6, 3, 3, 10, 12, 7, 7, 14, 19, 20, 21, 5, 2, 9, 4, 8, 32, 23, 18, 193, 269, 31, 193, 269, 115, 6, 23, 18, 189, 482, 483, 484, 6, 3, 3, 10, 12, 7, 7, 14, 19, 20, 21, 5, 2, 9, 4, 8, 32, 23, 18, 39, 485, 45, 6, 486, 6, 3, 3, 10, 12, 7, 7, 14, 19, 20, 21, 5, 2, 9, 4, 8, 32, 23, 18, 2, 487, 488, 31, 45, 6, 23, 18, 2, 489, 490, 491, 492, 6, 3, 3, 10, 12, 7, 7, 14, 19, 20, 21, 5, 2, 9, 4, 8, 146, 185, 270, 13, 270, 13, 78, 493, 6, 3, 3, 10, 12, 7, 7, 14, 19, 20, 21, 5, 2, 9, 4, 8, 59, 8, 18, 2, 79, 494, 194, 78, 59, 8, 18, 2, 495, 78, 146, 185, 496, 497, 6, 3, 3, 10, 12, 7, 7, 14, 19, 20, 21, 5, 2, 9, 4, 8, 59, 8, 18, 2, 498, 193, 499, 82, 78, 500, 6, 3, 3, 10, 12, 7, 7, 14, 19, 20, 21, 5, 2, 9, 4, 8, 59, 8, 18, 2, 79, 501, 271, 78, 59, 8, 18, 2, 79, 502, 503, 504, 6, 3, 3, 10, 12, 7, 7, 14, 19, 20, 21, 5, 2, 9, 4, 8, 59, 8, 18, 2, 79, 505, 506, 78, 59, 8, 18, 2, 79, 507, 508, 509, 6, 3, 3, 10, 12, 7, 7, 14, 19, 20, 21, 5, 2, 9, 4, 8, 79, 510, 6, 3, 3, 10, 12, 7, 7, 14, 19, 20, 21, 5, 2, 9, 4, 8, 32, 23, 18, 191, 192, 31, 45, 6, 23, 18, 2, 260, 272, 45, 6, 511, 6, 3, 3, 10, 12, 7, 7, 14, 19, 20, 21, 5, 2, 9, 4, 8, 512, 139, 513, 6, 3, 94, 73, 514, 515, 273, 2, 273, 2, 94, 15, 29, 195, 516, 13, 138, 65, 144, 95, 29, 117, 16, 36, 57, 15, 29, 195, 517, 13, 518, 16, 36, 57, 15, 29, 195, 151, 13, 95, 16, 36, 57, 15, 29, 519, 520, 521, 522, 13, 523, 15, 29, 524, 65, 13, 525, 526, 527, 528, 529, 16, 36, 57, 46, 15, 29, 109, 530, 531, 13, 532, 16, 36, 57, 46, 15, 29, 274, 275, 13, 533, 16, 36, 57, 46, 15, 29, 274, 276, 13, 534, 16, 36, 57, 46, 15, 29, 254, 535, 277, 13, 144, 536, 16, 36, 57, 15, 29, 2, 113, 114, 13, 61, 16, 36, 57, 46, 15, 29, 537, 22, 538, 152, 118, 153, 119, 95, 154, 155, 156, 120, 157, 121, 16, 36, 57, 22, 28, 8, 26, 5, 2, 9, 4, 15, 29, 539, 66, 540, 13, 541, 542, 15, 29, 543, 122, 13, 5, 544, 2, 4, 2, 545, 15, 29, 138, 278, 13, 15, 29, 546, 13, 48, 547, 48, 15, 29, 158, 13, 2, 83, 196, 96, 123, 159, 197, 198, 199, 97, 96, 160, 2, 58, 200, 201, 202, 203, 58, 204, 205, 97, 206, 22, 28, 257, 14, 19, 548, 207, 26, 549, 207, 94, 2, 22, 28, 550, 124, 26, 5, 2, 4, 551, 62, 94, 2, 15, 33, 552, 59, 65, 13, 553, 15, 29, 554, 555, 59, 13, 59, 65, 556, 59, 557, 5, 2, 4, 152, 118, 153, 119, 95, 154, 155, 156, 120, 157, 121, 15, 33, 47, 122, 13, 5, 2, 4, 15, 33, 47, 66, 29, 13, 2, 15, 33, 47, 94, 13, 123, 159, 558, 559, 15, 33, 47, 158, 13, 2, 83, 196, 96, 123, 159, 197, 198, 199, 97, 96, 160, 2, 58, 200, 201, 202, 203, 58, 204, 205, 97, 206, 15, 33, 47, 37, 13, 5, 2, 9, 4, 8, 2, 279, 280, 62, 15, 33, 47, 37, 14, 13, 37, 62, 15, 33, 47, 37, 48, 13, 98, 15, 33, 47, 37, 55, 13, 98, 15, 33, 47, 37, 13, 5, 2, 9, 4, 8, 2, 281, 560, 62, 15, 33, 47, 37, 14, 13, 37, 62, 15, 33, 47, 37, 48, 13, 98, 15, 33, 47, 37, 55, 13, 282, 15, 33, 47, 37, 13, 5, 2, 9, 4, 8, 2, 283, 561, 62, 15, 33, 47, 37, 14, 13, 37, 62, 15, 33, 47, 37, 48, 13, 98, 15, 33, 47, 37, 55, 13, 282, 15, 33, 63, 66, 13, 2, 15, 33, 63, 66, 65, 13, 284, 15, 33, 63, 285, 13, 2, 15, 33, 63, 285, 65, 13, 284, 15, 33, 63, 562, 13, 563, 564, 37, 15, 33, 63, 94, 13, 2, 15, 33, 63, 158, 13, 2, 83, 196, 96, 123, 159, 197, 198, 199, 97, 96, 160, 2, 58, 200, 201, 202, 203, 58, 204, 205, 97, 206, 15, 33, 63, 37, 13, 5, 2, 9, 4, 8, 2, 279, 280, 62, 15, 33, 63, 37, 48, 13, 98, 15, 33, 63, 37, 55, 13, 98, 15, 29, 286, 13, 2, 4, 15, 29, 565, 286, 13, 2, 4, 15, 161, 162, 163, 99, 100, 13, 566, 16, 36, 164, 165, 15, 161, 162, 163, 99, 567, 100, 13, 568, 16, 36, 164, 165, 15, 161, 162, 163, 99, 40, 100, 13, 569, 16, 36, 164, 165, 15, 161, 162, 163, 99, 6, 100, 13, 570, 16, 36, 164, 165, 15, 29, 36, 571, 572, 13, 166, 573, 16, 36, 57, 22, 10, 12, 42, 43, 28, 44, 26, 5, 2, 9, 4, 8, 66, 574, 40, 22, 10, 12, 42, 43, 28, 44, 26, 5, 2, 9, 4, 8, 271, 575, 40, 15, 29, 83, 125, 126, 73, 13, 46, 22, 28, 576, 26, 5, 2, 4, 152, 118, 153, 119, 95, 154, 155, 156, 120, 157, 121, 16, 36, 57, 15, 29, 36, 208, 577, 13, 125, 126, 145, 209, 73, 210, 211, 55, 68, 38, 24, 24, 84, 15, 29, 93, 287, 122, 13, 5, 288, 2, 4, 289, 93, 287, 15, 29, 93, 183, 122, 13, 5, 288, 2, 4, 289, 93, 183, 22, 28, 578, 124, 26, 5, 2, 9, 4, 8, 579, 283, 580, 74, 39, 581, 22, 28, 582, 124, 27, 6, 66, 127, 14, 37, 62, 26, 5, 2, 9, 4, 212, 127, 62, 22, 28, 124, 27, 6, 66, 127, 14, 37, 74, 207, 26, 5, 2, 9, 4, 212, 127, 74, 16, 583, 26, 5, 2, 9, 4, 212, 127, 15, 29, 56, 39, 13, 584, 15, 29, 39, 585, 13, 54, 50, 22, 28, 290, 26, 290, 180, 10, 160, 586, 235, 208, 27, 125, 126, 145, 209, 73, 210, 211, 55, 68, 38, 24, 24, 84, 128, 167, 129, 291, 167, 35, 16, 36, 208, 27, 125, 126, 145, 209, 73, 210, 211, 55, 68, 38, 24, 24, 84, 128, 167, 129, 291, 167, 35, 27, 69, 80, 60, 213, 6, 60, 213, 85, 26, 292, 587, 13, 16, 214, 101, 588, 130, 27, 75, 34, 131, 70, 39, 293, 294, 215, 39, 168, 111, 215, 589, 111, 216, 6, 214, 58, 13, 214, 58, 13, 85, 64, 16, 82, 132, 46, 27, 169, 99, 295, 169, 69, 296, 48, 68, 64, 128, 48, 25, 16, 82, 132, 46, 27, 169, 148, 169, 99, 295, 170, 171, 25, 172, 25, 39, 293, 294, 215, 64, 64, 3, 10, 12, 7, 7, 14, 19, 20, 21, 5, 2, 9, 4, 8, 91, 51, 590, 6, 3, 3, 10, 12, 7, 7, 14, 19, 20, 21, 5, 2, 9, 4, 8, 51, 297, 591, 6, 3, 3, 10, 12, 7, 7, 14, 19, 20, 21, 5, 2, 9, 4, 8, 51, 272, 592, 6, 3, 3, 10, 12, 7, 7, 14, 19, 20, 21, 5, 2, 9, 4, 8, 593, 51, 594, 6, 3, 3, 10, 12, 7, 7, 14, 19, 20, 21, 5, 2, 9, 4, 8, 32, 23, 18, 595, 596, 297, 123, 597, 598, 6, 599, 6, 3, 3, 10, 12, 7, 7, 14, 19, 20, 21, 5, 2, 9, 4, 8, 32, 23, 18, 298, 83, 299, 300, 31, 298, 83, 299, 300, 115, 6, 23, 18, 600, 601, 602, 6, 3, 3, 10, 12, 7, 7, 14, 19, 20, 21, 5, 2, 9, 4, 8, 32, 23, 18, 2, 187, 188, 31, 45, 6, 23, 18, 189, 262, 31, 263, 603, 604, 6, 3, 3, 10, 12, 7, 7, 14, 19, 20, 21, 5, 2, 9, 4, 8, 32, 23, 18, 258, 149, 150, 31, 149, 605, 6, 606, 6, 3, 3, 10, 12, 7, 7, 14, 19, 20, 21, 5, 2, 9, 4, 8, 113, 114, 184, 607, 6, 3, 22, 10, 12, 42, 43, 28, 44, 26, 5, 2, 9, 4, 8, 91, 51, 608, 609, 40, 51, 133, 133, 29, 113, 114, 184, 16, 301, 130, 16, 610, 301, 130, 3, 14, 19, 180, 16, 101, 51, 133, 611, 612, 613, 5, 614, 2, 4, 615, 616, 255, 113, 114, 3, 35, 16, 101, 51, 133, 617, 35, 51, 133, 3, 10, 12, 7, 7, 14, 19, 20, 21, 5, 2, 9, 4, 8, 32, 23, 18, 2, 186, 267, 31, 45, 6, 23, 18, 191, 192, 31, 268, 618, 619, 6, 3, 3, 10, 12, 7, 7, 14, 19, 20, 21, 5, 2, 9, 4, 8, 620, 621, 6, 3, 60, 27, 302, 60, 125, 126, 6, 102, 303, 6, 60, 102, 622, 131, 41, 623, 240, 16, 83, 172, 46, 16, 39, 232, 54, 16, 54, 56, 54, 16, 50, 56, 50, 304, 27, 624, 625, 173, 86, 304, 49, 14, 49, 27, 302, 626, 38, 30, 103, 87, 25, 69, 296, 172, 25, 171, 25, 48, 68, 55, 68, 6, 102, 101, 71, 67, 88, 173, 64, 27, 38, 103, 88, 173, 64, 49, 35, 27, 38, 24, 24, 84, 24, 30, 305, 24, 104, 105, 75, 41, 75, 627, 70, 75, 30, 52, 55, 68, 69, 80, 628, 17, 35, 27, 38, 24, 24, 217, 218, 24, 104, 105, 48, 68, 48, 30, 90, 35, 27, 24, 17, 49, 71, 67, 88, 173, 71, 306, 130, 14, 49, 16, 82, 132, 46, 27, 6, 102, 101, 6, 72, 629, 630, 6, 60, 86, 88, 49, 22, 49, 631, 49, 38, 30, 103, 39, 168, 219, 307, 17, 64, 27, 49, 13, 64, 27, 49, 67, 35, 27, 53, 88, 170, 89, 220, 17, 35, 35, 27, 53, 88, 170, 89, 220, 17, 35, 35, 27, 53, 88, 170, 89, 220, 17, 35, 64, 64, 49, 35, 85, 27, 632, 30, 41, 39, 168, 219, 24, 221, 34, 6, 308, 216, 111, 309, 72, 26, 71, 67, 310, 16, 116, 174, 11, 311, 11, 11, 112, 72, 11, 11, 151, 11, 11, 134, 58, 633, 58, 310, 11, 11, 67, 11, 11, 106, 73, 112, 106, 312, 634, 106, 313, 60, 11, 74, 55, 314, 71, 222, 46, 223, 25, 25, 76, 76, 100, 17, 17, 48, 314, 16, 82, 132, 46, 27, 175, 175, 281, 2, 117, 38, 315, 52, 635, 636, 316, 17, 52, 317, 17, 224, 637, 52, 638, 41, 639, 640, 641, 318, 642, 643, 644, 645, 646, 225, 647, 225, 648, 25, 649, 107, 17, 319, 107, 34, 650, 34, 651, 652, 41, 653, 654, 41, 655, 17, 656, 320, 657, 658, 17, 659, 17, 321, 17, 660, 322, 323, 324, 661, 107, 662, 663, 107, 17, 664, 665, 17, 666, 17, 108, 17, 667, 17, 668, 34, 325, 17, 92, 41, 669, 670, 17, 671, 322, 17, 92, 326, 17, 327, 34, 672, 673, 52, 328, 17, 674, 52, 328, 52, 329, 25, 17, 92, 675, 34, 676, 17, 319, 41, 330, 226, 677, 678, 17, 679, 226, 41, 331, 25, 25, 680, 332, 41, 681, 17, 108, 682, 683, 17, 684, 227, 34, 333, 227, 324, 25, 17, 685, 320, 34, 333, 227, 34, 34, 17, 686, 41, 228, 17, 108, 41, 228, 17, 108, 687, 17, 688, 689, 34, 690, 226, 41, 331, 326, 691, 17, 108, 17, 692, 17, 108, 41, 330, 25, 70, 693, 34, 325, 52, 694, 52, 695, 52, 329, 696, 697, 334, 17, 698, 334, 34, 699, 25, 17, 327, 107, 34, 700, 107, 41, 228, 25, 332, 323, 701, 225, 702, 703, 704, 705, 76, 706, 707, 76, 224, 92, 76, 52, 317, 321, 708, 316, 224, 52, 709, 117, 74, 85, 35, 27, 24, 17, 24, 221, 34, 261, 335, 85, 26, 278, 710, 58, 5, 711, 712, 713, 4, 714, 118, 715, 119, 716, 717, 718, 719, 120, 720, 121, 27, 53, 22, 53, 49, 38, 721, 24, 38, 30, 103, 24, 221, 17, 336, 166, 337, 87, 39, 87, 722, 89, 34, 75, 34, 131, 17, 39, 168, 219, 6, 308, 216, 111, 309, 72, 16, 190, 134, 11, 174, 14, 11, 11, 723, 134, 11, 11, 275, 11, 11, 338, 110, 73, 11, 11, 66, 60, 86, 11, 11, 144, 65, 11, 339, 11, 724, 14, 11, 11, 176, 725, 11, 11, 726, 122, 11, 11, 5, 2, 4, 152, 118, 153, 119, 95, 154, 155, 156, 120, 157, 121, 11, 11, 138, 65, 11, 339, 16, 190, 134, 276, 727, 16, 116, 174, 11, 311, 11, 11, 112, 72, 11, 11, 151, 11, 11, 134, 58, 176, 110, 11, 11, 67, 11, 11, 106, 73, 112, 106, 312, 176, 110, 106, 313, 60, 11, 176, 110, 85, 35, 35, 35, 27, 53, 6, 60, 86, 55, 728, 69, 30, 80, 38, 30, 24, 24, 84, 24, 90, 172, 25, 35, 27, 53, 213, 38, 24, 24, 84, 24, 729, 292, 24, 30, 305, 24, 90, 89, 89, 30, 25, 72, 27, 53, 72, 71, 67, 139, 340, 27, 38, 30, 24, 194, 128, 103, 341, 27, 53, 148, 69, 80, 24, 129, 24, 217, 218, 24, 104, 105, 38, 342, 38, 30, 24, 24, 30, 730, 24, 30, 104, 105, 6, 102, 303, 6, 60, 86, 148, 49, 14, 49, 27, 53, 22, 87, 25, 48, 68, 48, 30, 90, 75, 25, 75, 30, 34, 131, 30, 34, 166, 129, 38, 24, 24, 104, 105, 24, 217, 218, 6, 102, 101, 71, 306, 130, 229, 74, 731, 25, 52, 71, 222, 46, 55, 177, 223, 25, 25, 177, 177, 100, 17, 17, 48, 177, 16, 82, 132, 46, 27, 175, 175, 732, 733, 53, 124, 734, 17, 117, 38, 315, 735, 52, 736, 77, 77, 25, 25, 17, 25, 17, 737, 70, 92, 70, 738, 77, 77, 25, 25, 17, 17, 230, 739, 740, 741, 742, 77, 77, 25, 17, 17, 17, 230, 17, 743, 236, 744, 745, 41, 746, 77, 77, 25, 25, 17, 17, 230, 747, 117, 74, 49, 35, 27, 53, 178, 178, 86, 89, 748, 25, 307, 25, 343, 34, 343, 30, 70, 69, 80, 69, 30, 749, 171, 25, 171, 30, 750, 135, 34, 135, 30, 70, 38, 30, 24, 24, 129, 178, 86, 751, 35, 27, 53, 84, 75, 30, 70, 87, 30, 335, 344, 70, 344, 30, 25, 752, 30, 318, 35, 27, 87, 345, 135, 41, 135, 30, 25, 87, 30, 345, 25, 340, 27, 194, 128, 103, 336, 341, 85, 27, 53, 178, 22, 38, 342, 166, 337, 69, 80, 131, 34, 22, 753, 38, 24, 24, 104, 105, 22, 754, 158, 135, 30, 41, 16, 116, 174, 11, 338, 11, 11, 346, 11, 11, 151, 11, 11, 2, 61, 11, 11, 248, 11, 11, 229, 11, 11, 277, 11, 11, 22, 11, 11, 67, 11, 11, 2, 61, 22, 229, 346, 11, 26, 5, 2, 4, 246, 61, 74, 71, 222, 46, 55, 76, 223, 25, 25, 76, 76]\n"
     ]
    }
   ],
   "source": [
    "print(f\"Generated sequences: {sequences}\")"
   ]
  },
  {
   "cell_type": "markdown",
   "id": "3b6bdc0deb930df1",
   "metadata": {
    "collapsed": false,
    "id": "3b6bdc0deb930df1"
   },
   "source": [
    "Assuming your sequences are stored in `X` and the corresponding targets in `y`, the following line should print the first training sequence and its target:"
   ]
  },
  {
   "cell_type": "code",
   "execution_count": 91,
   "id": "a495cab04001ce92",
   "metadata": {
    "colab": {
     "base_uri": "https://localhost:8080/"
    },
    "id": "a495cab04001ce92",
    "outputId": "ecc2c1f4-81d5-4edb-ba86-8c53f86df70b"
   },
   "outputs": [
    {
     "name": "stdout",
     "output_type": "stream",
     "text": [
      "Sequence: [347, 109, 109, 348, 231, 16, 39, 232, 90, 16, 54, 56, 54, 16, 50, 56, 50, 16, 233, 349, 234, 350, 16, 233, 22, 351, 46, 235, 15, 352, 353, 236, 22, 28, 136, 137, 26, 5, 2, 9, 4, 22, 28, 136, 137, 26, 5, 237, 179, 4]\n",
      "Target: 22\n",
      "Translated back to words: ['doctype', 'html', 'html', 'lang', 'en', 'data', 'color', 'mode', 'auto', 'data', 'light', 'theme', 'light', 'data', 'dark', 'theme', 'dark', 'data', 'a11y', 'animated', 'images', 'system', 'data', 'a11y', 'link', 'underlines', 'true', 'head', 'meta', 'charset', 'utf', '8', 'link', 'rel', 'dns', 'prefetch', 'href', 'https', 'github', 'githubassets', 'com', 'link', 'rel', 'dns', 'prefetch', 'href', 'https', 'avatars', 'githubusercontent', 'com'] -> link\n"
     ]
    }
   ],
   "source": [
    "if len(X) > 0 and len(y) > 0:\n",
    "    print(f'Sequence: {X[0]}\\nTarget: {y[0]}')\n",
    "    print(f'Translated back to words: {[tokenizer.index_word[i] for i in X[0]]} -> {tokenizer.index_word[y[0]]}')\n",
    "else:\n",
    "    print(\"Training sequences have not been generated. Possible issue: Complete the relevant section of the assignment to initialize it.\")\n"
   ]
  },
  {
   "cell_type": "markdown",
   "id": "d5bb2c55da17aaa0",
   "metadata": {
    "collapsed": false,
    "id": "d5bb2c55da17aaa0"
   },
   "source": [
    "And the following code will transform y into a one-hot encoded matrix, and split everything into training and validation sets:"
   ]
  },
  {
   "cell_type": "code",
   "execution_count": 92,
   "id": "3a929b2e6c2cc921",
   "metadata": {
    "colab": {
     "base_uri": "https://localhost:8080/"
    },
    "id": "3a929b2e6c2cc921",
    "outputId": "bbac2f5d-5ec3-40d0-fdd7-c567088569d7"
   },
   "outputs": [
    {
     "name": "stdout",
     "output_type": "stream",
     "text": [
      "Number of samples: 3677\n",
      "X_train shape: (2941, 50)\n",
      "y_train shape: (2941, 10000)\n"
     ]
    }
   ],
   "source": [
    "from sklearn.model_selection import train_test_split\n",
    "from keras.utils import to_categorical\n",
    "import numpy as np\n",
    "\n",
    "# Ensure that tokenizer has been initialized\n",
    "if tokenizer is not None:\n",
    "    # Convert X and y to numpy arrays\n",
    "    X = np.array(X)\n",
    "    y = np.array(y)\n",
    "\n",
    "    # One last thing: let's drop any examples where the target is the OOV token - we don't want our model to predict that (boring!)\n",
    "    if OOV_TOKEN in tokenizer.word_index:\n",
    "        mask = y != tokenizer.word_index[OOV_TOKEN]\n",
    "        X = X[mask]\n",
    "        y = y[mask]\n",
    "\n",
    "    print(f\"Number of samples: {len(X)}\")\n",
    "\n",
    "    # One-hot encode the target token\n",
    "    y = to_categorical(y, num_classes=VOCAB_SIZE)\n",
    "\n",
    "    # Split the data into training and validation sets\n",
    "    X_train, X_val, y_train, y_val = train_test_split(X, y, test_size=0.2, random_state=42)\n",
    "\n",
    "    print(f'X_train shape: {X_train.shape}')\n",
    "    print(f'y_train shape: {y_train.shape}')\n",
    "else:\n",
    "    print(\"Tokenizer has not been initialized. Please initialize it and load the vocabulary before continuing.\")\n"
   ]
  },
  {
   "cell_type": "markdown",
   "id": "b6e4161897210434",
   "metadata": {
    "collapsed": false,
    "id": "b6e4161897210434"
   },
   "source": [
    "# 2. Model Development (Complete or Incomplete)\n",
    "\n",
    "With the dataset prepared, it's time to develop the RNN model. You'll need to define the architecture of the model, compile it, and prepare it for training.\n",
    "\n",
    "## 2.1 Model Architecture\n",
    "\n",
    "Define the architecture of your RNN model. You can design it however you like, but there are a few features that it's important to include:\n",
    "\n",
    "*   An embedding layer that learns a dense representation of the input tokens. You'll need to specify the input dimension (the size of the vocabulary) and the output dimension (the size of the dense representation). Remember, you can look at the documentation [here](https://keras.io/api/layers/core_layers/embedding/).\n",
    "*   At least one recurrent layer. We have learned how to use LSTM layers in class, but you can use other types of recurrent layers if you prefer. You can find the documentation [here](https://keras.io/api/layers/recurrent_layers/lstm/).\n",
    "*   A dense layer with a softmax activation function. This layer will output a probability distribution over the vocabulary, so that the model can make predictions about the next token."
   ]
  },
  {
   "cell_type": "code",
   "execution_count": 109,
   "id": "9fdfaad93818fc8d",
   "metadata": {
    "colab": {
     "base_uri": "https://localhost:8080/"
    },
    "id": "9fdfaad93818fc8d",
    "outputId": "ae02a273-ab37-4274-d41c-b2c0c80350d6"
   },
   "outputs": [
    {
     "name": "stdout",
     "output_type": "stream",
     "text": [
      "Model: \"sequential_2\"\n",
      "_________________________________________________________________\n",
      " Layer (type)                Output Shape              Param #   \n",
      "=================================================================\n",
      " embedding_3 (Embedding)     (None, 50, 100)           1000000   \n",
      "                                                                 \n",
      " conv1d_4 (Conv1D)           (None, 46, 128)           64128     \n",
      "                                                                 \n",
      " max_pooling1d_4 (MaxPooling  (None, 9, 128)           0         \n",
      " 1D)                                                             \n",
      "                                                                 \n",
      " conv1d_5 (Conv1D)           (None, 5, 64)             41024     \n",
      "                                                                 \n",
      " max_pooling1d_5 (MaxPooling  (None, 1, 64)            0         \n",
      " 1D)                                                             \n",
      "                                                                 \n",
      " lstm_2 (LSTM)               (None, 100)               66000     \n",
      "                                                                 \n",
      " flatten_2 (Flatten)         (None, 100)               0         \n",
      "                                                                 \n",
      " dense_2 (Dense)             (None, 10000)             1010000   \n",
      "                                                                 \n",
      "=================================================================\n",
      "Total params: 2,181,152\n",
      "Trainable params: 2,181,152\n",
      "Non-trainable params: 0\n",
      "_________________________________________________________________\n"
     ]
    }
   ],
   "source": [
    "from keras.models import Sequential\n",
    "from keras.layers import Embedding, LSTM, Dense, Conv1D, MaxPooling1D, Flatten\n",
    "\n",
    "model = Sequential([\n",
    "    # Your code here\n",
    "    Embedding(input_dim=VOCAB_SIZE, output_dim=100, input_length=SEQ_LENGTH, trainable=True), # Just like we've seen in previous labs\n",
    "    # Add convolutional and max pooling \n",
    "    Conv1D(128, 5, activation='relu'),\n",
    "    MaxPooling1D(5),\n",
    "    Conv1D(64, 5, activation='relu'),\n",
    "    MaxPooling1D(5),\n",
    "    LSTM(100),\n",
    "    # Flatten the output of the convolutional layers\n",
    "    Flatten(),\n",
    "    # Add a dense layer for predictions\n",
    "    Dense(VOCAB_SIZE, activation='softmax')\n",
    "    # GlobalAveragePooling1D(), # This layer averages the embeddings of all words in the sequence\n",
    "    # Dense(N_CLASSES, activation='softmax') # This layer outputs a probability distribution over the 5 classes\n",
    "])\n",
    "\n",
    "# Check if the model has layers before trying to print the summary\n",
    "if len(model.layers) > 0:\n",
    "    model.summary()\n",
    "else:\n",
    "    print(\"No layers have been added to the model. Please complete the assignment by adding the required layers.\")"
   ]
  },
  {
   "cell_type": "markdown",
   "id": "2fafd2dbb0d589fc",
   "metadata": {
    "collapsed": false,
    "id": "2fafd2dbb0d589fc"
   },
   "source": [
    "## 2.2 Model Compilation\n",
    "\n",
    "Compile the model with an appropriate loss function and optimizer. You might also want to track additional metrics, such as accuracy.\n",
    "\n",
    "Give a short explanation of your choice of loss function and optimizer:\n",
    "\n",
    "_your explanation here_"
   ]
  },
  {
   "cell_type": "code",
   "execution_count": 110,
   "id": "ae4ca7a12051b1fd",
   "metadata": {
    "id": "ae4ca7a12051b1fd"
   },
   "outputs": [],
   "source": [
    "# Your code here\n",
    "from tensorflow.keras.optimizers import Adam \n",
    "\n",
    "model.compile(\n",
    "    loss='categorical_crossentropy', \n",
    "    optimizer=Adam(learning_rate=0.01),\n",
    "    metrics=['accuracy']\n",
    ")"
   ]
  },
  {
   "cell_type": "markdown",
   "id": "c2f0b90a448c4f4b",
   "metadata": {
    "collapsed": false,
    "id": "c2f0b90a448c4f4b"
   },
   "source": [
    "## 2.3 Model Training\n",
    "\n",
    "Train the model on the training data you've prepared.\n",
    "\n",
    "* Train your model for 5 epochs with a batch size of 128. Use the validation data for validation.\n",
    "* Store the training history in a variable called `history`."
   ]
  },
  {
   "cell_type": "code",
   "execution_count": 107,
   "id": "f7aa645b",
   "metadata": {},
   "outputs": [
    {
     "name": "stdout",
     "output_type": "stream",
     "text": [
      "(736, 50)\n",
      "(736, 10000)\n",
      "(2941, 50)\n",
      "(2941, 10000)\n"
     ]
    }
   ],
   "source": [
    "print(X_val.shape)\n",
    "print(y_val.shape)\n",
    "print(X_train.shape)\n",
    "print(y_train.shape)"
   ]
  },
  {
   "cell_type": "code",
   "execution_count": null,
   "id": "256b1ea138c67ef7",
   "metadata": {
    "colab": {
     "base_uri": "https://localhost:8080/"
    },
    "id": "256b1ea138c67ef7",
    "outputId": "fba36993-0bf3-472e-f1c3-1da548c12ead"
   },
   "outputs": [
    {
     "name": "stdout",
     "output_type": "stream",
     "text": [
      "Epoch 1/5\n",
      "23/23 [==============================] - 10s 39ms/step - loss: 7.1807 - accuracy: 0.0262 - val_loss: 6.7832 - val_accuracy: 0.0245\n",
      "Epoch 2/5\n",
      "23/23 [==============================] - 0s 12ms/step - loss: 5.9774 - accuracy: 0.0272 - val_loss: 6.5581 - val_accuracy: 0.0245\n",
      "Epoch 3/5\n",
      "23/23 [==============================] - 0s 13ms/step - loss: 5.7791 - accuracy: 0.0289 - val_loss: 6.5201 - val_accuracy: 0.0435\n",
      "Epoch 4/5\n",
      "23/23 [==============================] - 0s 12ms/step - loss: 5.7709 - accuracy: 0.0235 - val_loss: 6.5452 - val_accuracy: 0.0272\n",
      "Epoch 5/5\n",
      "23/23 [==============================] - 0s 12ms/step - loss: 5.7649 - accuracy: 0.0282 - val_loss: 6.5866 - val_accuracy: 0.0435\n"
     ]
    }
   ],
   "source": [
    "# Your code here\n",
    "\n",
    "history = model.fit(X_train, y_train, validation_data=(X_val, y_val), \n",
    "                    epochs=5, batch_size=128)\n",
    "\n",
    "#output_test = model(X_val)\n",
    "#test_casses = np.argmax(output_test, axis=-1)\n",
    "#print(\"Test accuracy:\", np.mean(test_casses == target_test))"
   ]
  },
  {
   "cell_type": "markdown",
   "id": "195c59bf80d2a2c4",
   "metadata": {
    "collapsed": false
   },
   "source": [
    "Plot the training history to visualize the model's learning progress. Your plot should include the training and validation loss."
   ]
  },
  {
   "cell_type": "code",
   "execution_count": 113,
   "id": "9e8cacec70d8f313",
   "metadata": {
    "id": "9e8cacec70d8f313"
   },
   "outputs": [
    {
     "data": {
      "image/png": "[encoded data removed]",
      "text/plain": [
       "<Figure size 1000x600 with 1 Axes>"
      ]
     },
     "metadata": {},
     "output_type": "display_data"
    },
    {
     "name": "stdout",
     "output_type": "stream",
     "text": [
      "None\n"
     ]
    }
   ],
   "source": [
    "import matplotlib.pyplot as plt\n",
    "\n",
    "# Your code here\n",
    "\n",
    "import matplotlib.pyplot as plt\n",
    "\n",
    "def plot_training_history(history):\n",
    "    \"\"\"\n",
    "    Plots the training and validation loss over epochs.\n",
    "    \n",
    "    Parameters:\n",
    "        history: The training history object returned by the model's fit method.\n",
    "                 It should contain 'loss' and 'val_loss' for training and validation losses respectively.\n",
    "    \"\"\"\n",
    "    # Extract loss and validation loss from the history\n",
    "    training_loss = history.history['loss']\n",
    "    validation_loss = history.history['val_loss']\n",
    "    epochs = range(1, len(training_loss) + 1)\n",
    "    \n",
    "    # Plot the losses\n",
    "    plt.figure(figsize=(10, 6))\n",
    "    plt.plot(epochs, training_loss, 'bo-', label='Training Loss')\n",
    "    plt.plot(epochs, validation_loss, 'ro-', label='Validation Loss')\n",
    "    plt.title('Training and Validation Loss', fontsize=16)\n",
    "    plt.xlabel('Epochs', fontsize=14)\n",
    "    plt.ylabel('Loss', fontsize=14)\n",
    "    plt.legend(fontsize=12)\n",
    "    plt.grid(True)\n",
    "    plt.show()\n",
    "\n",
    "\n",
    "print(plot_training_history(history))"
   ]
  },
  {
   "cell_type": "markdown",
   "id": "3d9ed71305787aed",
   "metadata": {
    "collapsed": false
   },
   "source": [
    "# 3. Text Generation (Complete or Incomplete)\n",
    "\n",
    "Write a method called `generate_text` that uses the trained model to generate new text. The method should take the following parameters:\n",
    "\n",
    "*   `model`: The trained RNN model.\n",
    "*   `tokenizer`: The tokenizer used to pre-process the text data.\n",
    "*   `seed_text`: The seed text the model will use to generate new text.\n",
    "*   `max_sequence_len`: The maximum length of the sequence used to generate new text.\n",
    "\n",
    "The method should return the generated text.\n",
    "\n",
    "An overview of the text generation process you should follow:\n",
    "\n",
    "1. Tokenize the seed text using the tokenizer we built before.\n",
    "2. Pad the sequences to the same length as the training sequences - you can use the `pad_sequences` method from the `keras.preprocessing.sequence` module, which is documented [here](https://www.tensorflow.org/api_docs/python/tf/keras/preprocessing/sequence/pad_sequences).\n",
    "3. Use the model to predict the next token in the sequence. Remember that the model will output a probability distribution over the vocabulary, so you'll need to use `np.argmax` to find the token with the highest probability.\n",
    "4. Add the predicted token to the sequence and remove the first token.\n",
    "5. Repeat steps 3-4 until you have generated the desired number of tokens.\n",
    "6. Convert the generated token IDs back to words and return the combined result as a single string.\n",
    "\n",
    "This is a challenging task, so don't hesitate to ask for help if you need it. It's okay if the generated text doesn't make much sense yet - we'll work on improving the model next.\n",
    "As a bonus, you can make your method generate \"gpt-style\" by having it print out each word as it's generated, so you can see the text being generated in real time."
   ]
  },
  {
   "cell_type": "code",
   "execution_count": 117,
   "id": "d73dbf278a1265ef",
   "metadata": {
    "collapsed": false
   },
   "outputs": [],
   "source": [
    "from tensorflow.keras.preprocessing.sequence import pad_sequences\n",
    "\n",
    "def get_predicted_word(model, sequence):\n",
    "    \"\"\"\n",
    "    Get the predicted word from the model.\n",
    "    This helper function uses a concept we haven't covered in class yet: temperature.\n",
    "    In essence, a little bit of randomness in what word we predict can make the text more interesting.\n",
    "    \"\"\"\n",
    "\n",
    "    # Use the model to predict the next token in the sequence\n",
    "    yhat = model.predict(sequence, verbose=0)\n",
    "\n",
    "    # Get the index of the predicted word, according to the probabilities\n",
    "    yhat = np.random.choice(range(VOCAB_SIZE), p=yhat.ravel())\n",
    "\n",
    "    return yhat\n",
    "\n",
    "def generate_text(model, tokenizer, seed_text, max_sequence_len):\n",
    "    \"\"\"\n",
    "    Generate new text using the trained model.\n",
    "    You can use the `get_predicted_word` helper function to help you with this.\n",
    "    \"\"\"\n",
    "    output_text = seed_text\n",
    "    for _ in range(max_sequence_len):\n",
    "        # Tokenize the seed text\n",
    "        token_list = tokenizer.texts_to_sequences([output_text])[0]\n",
    "\n",
    "        # Pad the sequence\n",
    "        token_list = pad_sequences([token_list], maxlen=50, padding='pre')\n",
    "\n",
    "        # Predict the next token\n",
    "        predicted = get_predicted_word(model, token_list)\n",
    "\n",
    "        # Convert the predicted token to the corresponding word\n",
    "        output_word = tokenizer.index_word.get(predicted, \"\")\n",
    "\n",
    "        # Stop generation if the model predicts an empty or unknown word\n",
    "        if output_word == \"\":\n",
    "            break\n",
    "\n",
    "        # Add the word to the output\n",
    "        output_text += \" \" + output_word\n",
    "\n",
    "    return output_text\n",
    "    \n",
    "    #return None\n"
   ]
  },
  {
   "cell_type": "code",
   "execution_count": 118,
   "id": "f463b0c3df49e2c",
   "metadata": {
    "collapsed": false
   },
   "outputs": [
    {
     "data": {
      "text/plain": [
       "'hamlet 4 https 79 resume githubusercontent css application link ref order turbo build dist application viewbox vendors githubassets implicit 0 script com 5 flex class all vendors https github assets class 889cec8cf448 type https com viewport anonymous name image billing github 2 https assets https crossorigin github quot quot com quot'"
      ]
     },
     "execution_count": 118,
     "metadata": {},
     "output_type": "execute_result"
    }
   ],
   "source": [
    "# Test the text generation function\n",
    "generate_text(model, tokenizer, 'hamlet', SEQ_LENGTH)"
   ]
  },
  {
   "cell_type": "markdown",
   "id": "5871d836a0135c41",
   "metadata": {
    "collapsed": false
   },
   "source": [
    "It's likely that the text generated by your model doesn't make much sense yet. This is because the model hasn't been trained for very long, and the training dataset is relatively small. \n",
    "\n",
    "# 4. Model Refinement (Complete or Incomplete)\n",
    "\n",
    "In this last section, you'll work on improving your model. There are many ways to do this, but here are a few ideas to get you started:\n",
    "\n",
    "* Use pre-trained embeddings: the code below will help you to load pre-trained embeddings through Keras. \n",
    "* Experiment with different model architectures, including the number of layers, the number of units in each layer, and the use of dropout layers.\n",
    "* Train your model for longer. You can also experiment with different batch sizes.\n",
    "\n",
    "Implement and test out at least one of these ideas. If you have other ideas for improving the model, feel free to try them out as well."
   ]
  },
  {
   "cell_type": "code",
   "execution_count": 121,
   "id": "dda8b0f845c20862",
   "metadata": {
    "collapsed": false
   },
   "outputs": [
    {
     "name": "stderr",
     "output_type": "stream",
     "text": [
      "'wget' is not recognized as an internal or external command,\n",
      "operable program or batch file.\n"
     ]
    },
    {
     "name": "stdout",
     "output_type": "stream",
     "text": [
      "Archive:  glove.6B.zip\n",
      "  inflating: glove.6B.50d.txt        \n",
      "  inflating: glove.6B.100d.txt       \n",
      "  inflating: glove.6B.200d.txt       \n",
      "  inflating: glove.6B.300d.txt       \n"
     ]
    }
   ],
   "source": [
    "!wget https://downloads.cs.stanford.edu/nlp/data/glove.6B.zip\n",
    "!unzip glove.6B.zip"
   ]
  },
  {
   "cell_type": "code",
   "execution_count": 122,
   "id": "e8b777220505635",
   "metadata": {
    "collapsed": false
   },
   "outputs": [
    {
     "name": "stdout",
     "output_type": "stream",
     "text": [
      "Found 400000 word vectors.\n"
     ]
    }
   ],
   "source": [
    "# Load the pre-trained embeddings\n",
    "embeddings_index = {}\n",
    "try:\n",
    "    with open('glove.6B.100d.txt', encoding='utf-8') as f:\n",
    "        for line in f:\n",
    "            values = line.split()\n",
    "            word = values[0]\n",
    "            coefs = np.asarray(values[1:], dtype='float32')\n",
    "            embeddings_index[word] = coefs\n",
    "    print(f'Found {len(embeddings_index)} word vectors.')\n",
    "except FileNotFoundError:\n",
    "    print(\"'glove.6B.100d.txt' File not found. Please make sure you have ran the previous cell.\")"
   ]
  },
  {
   "cell_type": "code",
   "execution_count": 123,
   "id": "d3e48ff004757cf2",
   "metadata": {
    "collapsed": false
   },
   "outputs": [],
   "source": [
    "# Check if VOCAB_SIZE is set\n",
    "if VOCAB_SIZE is None:\n",
    "    print(\"You need to complete the previous parts of your assignment in order for this to work.\")\n",
    "else:\n",
    "    # Create an embedding matrix\n",
    "    embedding_matrix = np.zeros((VOCAB_SIZE, 100))\n",
    "    for word, i in tokenizer.word_index.items():\n",
    "        if i < VOCAB_SIZE:\n",
    "            embedding_vector = embeddings_index.get(word)\n",
    "            if embedding_vector is not None:\n",
    "                embedding_matrix[i] = embedding_vector"
   ]
  },
  {
   "cell_type": "code",
   "execution_count": 124,
   "id": "e3d21d5dbbbcf9f9",
   "metadata": {
    "collapsed": false
   },
   "outputs": [],
   "source": [
    "# Check if VOCAB_SIZE is set\n",
    "if VOCAB_SIZE is None:\n",
    "    print(\"You need to complete the previous parts of your assignment in order for this to work.\")\n",
    "else:\n",
    "    embedding_layer = Embedding(\n",
    "        VOCAB_SIZE, 100, weights=[embedding_matrix], input_length=SEQ_LENGTH, trainable=False\n",
    "    )"
   ]
  },
  {
   "cell_type": "code",
   "execution_count": 131,
   "id": "236cb723e4e5b3fc",
   "metadata": {
    "collapsed": false
   },
   "outputs": [
    {
     "name": "stdout",
     "output_type": "stream",
     "text": [
      "Model: \"sequential_5\"\n",
      "_________________________________________________________________\n",
      " Layer (type)                Output Shape              Param #   \n",
      "=================================================================\n",
      " embedding_4 (Embedding)     (None, 50, 100)           1000000   \n",
      "                                                                 \n",
      " conv1d_10 (Conv1D)          (None, 46, 128)           64128     \n",
      "                                                                 \n",
      " max_pooling1d_10 (MaxPoolin  (None, 9, 128)           0         \n",
      " g1D)                                                            \n",
      "                                                                 \n",
      " dropout (Dropout)           (None, 9, 128)            0         \n",
      "                                                                 \n",
      " conv1d_11 (Conv1D)          (None, 5, 64)             41024     \n",
      "                                                                 \n",
      " max_pooling1d_11 (MaxPoolin  (None, 1, 64)            0         \n",
      " g1D)                                                            \n",
      "                                                                 \n",
      " lstm_5 (LSTM)               (None, 100)               66000     \n",
      "                                                                 \n",
      " flatten_5 (Flatten)         (None, 100)               0         \n",
      "                                                                 \n",
      " dense_5 (Dense)             (None, 10000)             1010000   \n",
      "                                                                 \n",
      "=================================================================\n",
      "Total params: 2,181,152\n",
      "Trainable params: 1,181,152\n",
      "Non-trainable params: 1,000,000\n",
      "_________________________________________________________________\n"
     ]
    }
   ],
   "source": [
    "# Define a new model and train it\n",
    "\n",
    "# Your code here\n",
    "\n",
    "from keras.models import Sequential\n",
    "from keras.layers import Embedding, LSTM, Dense, Conv1D, MaxPooling1D, Flatten, Dropout\n",
    "\n",
    "model = Sequential([\n",
    "    # Your code here\n",
    "    embedding_layer, \n",
    "    # Add convolutional and max pooling \n",
    "    Conv1D(128, 5, activation='relu'),\n",
    "    MaxPooling1D(5),\n",
    "    Dropout(0.2),\n",
    "    Conv1D(64, 5, activation='relu'),\n",
    "    MaxPooling1D(5),\n",
    "    LSTM(100),\n",
    "    # Flatten the output of the convolutional layers\n",
    "    Flatten(),\n",
    "    # Add a dense layer for predictions\n",
    "    Dense(VOCAB_SIZE, activation='softmax')\n",
    "    # GlobalAveragePooling1D(), # This layer averages the embeddings of all words in the sequence\n",
    "    # Dense(N_CLASSES, activation='softmax') # This layer outputs a probability distribution over the 5 classes\n",
    "])\n",
    "\n",
    "# Check if the model has layers before trying to print the summary\n",
    "if len(model.layers) > 0:\n",
    "    model.summary()\n",
    "else:\n",
    "    print(\"No layers have been added to the model. Please complete the assignment by adding the required layers.\")"
   ]
  },
  {
   "cell_type": "code",
   "execution_count": 132,
   "id": "4394422f",
   "metadata": {},
   "outputs": [],
   "source": [
    "model.compile(\n",
    "    loss='categorical_crossentropy', \n",
    "    optimizer=Adam(learning_rate=0.01),\n",
    "    metrics=['accuracy']\n",
    ")"
   ]
  },
  {
   "cell_type": "code",
   "execution_count": 133,
   "id": "534ac916",
   "metadata": {},
   "outputs": [
    {
     "name": "stdout",
     "output_type": "stream",
     "text": [
      "Epoch 1/20\n",
      "92/92 [==============================] - 4s 20ms/step - loss: 7.0402 - accuracy: 0.0221 - val_loss: 6.3955 - val_accuracy: 0.0204\n",
      "Epoch 2/20\n",
      "92/92 [==============================] - 1s 8ms/step - loss: 5.9417 - accuracy: 0.0258 - val_loss: 6.5843 - val_accuracy: 0.0204\n",
      "Epoch 3/20\n",
      "92/92 [==============================] - 1s 8ms/step - loss: 5.9716 - accuracy: 0.0224 - val_loss: 6.5713 - val_accuracy: 0.0204\n",
      "Epoch 4/20\n",
      "92/92 [==============================] - 1s 8ms/step - loss: 5.9381 - accuracy: 0.0235 - val_loss: 6.6130 - val_accuracy: 0.0435\n",
      "Epoch 5/20\n",
      "92/92 [==============================] - 1s 8ms/step - loss: 5.9744 - accuracy: 0.0275 - val_loss: 6.6466 - val_accuracy: 0.0245\n",
      "Epoch 6/20\n",
      "92/92 [==============================] - 1s 8ms/step - loss: 5.9657 - accuracy: 0.0272 - val_loss: 6.7166 - val_accuracy: 0.0245\n",
      "Epoch 7/20\n",
      "92/92 [==============================] - 1s 8ms/step - loss: 5.9525 - accuracy: 0.0286 - val_loss: 6.8007 - val_accuracy: 0.0204\n",
      "Epoch 8/20\n",
      "92/92 [==============================] - 1s 8ms/step - loss: 5.9539 - accuracy: 0.0197 - val_loss: 6.8298 - val_accuracy: 0.0245\n",
      "Epoch 9/20\n",
      "92/92 [==============================] - 1s 8ms/step - loss: 5.9506 - accuracy: 0.0272 - val_loss: 6.7543 - val_accuracy: 0.0095\n",
      "Epoch 10/20\n",
      "92/92 [==============================] - 1s 8ms/step - loss: 5.9430 - accuracy: 0.0235 - val_loss: 6.8498 - val_accuracy: 0.0217\n",
      "Epoch 11/20\n",
      "92/92 [==============================] - 1s 8ms/step - loss: 5.9565 - accuracy: 0.0272 - val_loss: 6.7860 - val_accuracy: 0.0245\n",
      "Epoch 12/20\n",
      "92/92 [==============================] - 1s 8ms/step - loss: 5.9558 - accuracy: 0.0279 - val_loss: 6.8919 - val_accuracy: 0.0435\n",
      "Epoch 13/20\n",
      "92/92 [==============================] - 1s 8ms/step - loss: 5.9623 - accuracy: 0.0228 - val_loss: 6.9429 - val_accuracy: 0.0190\n",
      "Epoch 14/20\n",
      "92/92 [==============================] - 1s 8ms/step - loss: 5.9749 - accuracy: 0.0248 - val_loss: 6.8614 - val_accuracy: 0.0435\n",
      "Epoch 15/20\n",
      "92/92 [==============================] - 1s 8ms/step - loss: 5.9794 - accuracy: 0.0207 - val_loss: 6.8802 - val_accuracy: 0.0435\n",
      "Epoch 16/20\n",
      "92/92 [==============================] - 1s 8ms/step - loss: 5.9530 - accuracy: 0.0272 - val_loss: 6.9042 - val_accuracy: 0.0204\n",
      "Epoch 17/20\n",
      "92/92 [==============================] - 1s 8ms/step - loss: 5.9693 - accuracy: 0.0255 - val_loss: 6.9081 - val_accuracy: 0.0435\n",
      "Epoch 18/20\n",
      "92/92 [==============================] - 1s 8ms/step - loss: 5.9743 - accuracy: 0.0221 - val_loss: 6.9527 - val_accuracy: 0.0245\n",
      "Epoch 19/20\n",
      "92/92 [==============================] - 1s 8ms/step - loss: 5.9531 - accuracy: 0.0245 - val_loss: 6.8852 - val_accuracy: 0.0435\n",
      "Epoch 20/20\n",
      "92/92 [==============================] - 1s 8ms/step - loss: 5.9672 - accuracy: 0.0303 - val_loss: 6.9380 - val_accuracy: 0.0095\n"
     ]
    }
   ],
   "source": [
    "# Your code here\n",
    "\n",
    "history = model.fit(X_train, y_train, validation_data=(X_val, y_val), \n",
    "                    epochs=20, batch_size=32)"
   ]
  },
  {
   "cell_type": "code",
   "execution_count": 134,
   "id": "822644ac",
   "metadata": {},
   "outputs": [
    {
     "data": {
      "image/png": "[encoded data removed]",
      "text/plain": [
       "<Figure size 1000x600 with 1 Axes>"
      ]
     },
     "metadata": {},
     "output_type": "display_data"
    },
    {
     "name": "stdout",
     "output_type": "stream",
     "text": [
      "None\n"
     ]
    }
   ],
   "source": [
    "import matplotlib.pyplot as plt\n",
    "\n",
    "# Your code here\n",
    "\n",
    "import matplotlib.pyplot as plt\n",
    "\n",
    "def plot_training_history(history):\n",
    "    \"\"\"\n",
    "    Plots the training and validation loss over epochs.\n",
    "    \n",
    "    Parameters:\n",
    "        history: The training history object returned by the model's fit method.\n",
    "                 It should contain 'loss' and 'val_loss' for training and validation losses respectively.\n",
    "    \"\"\"\n",
    "    # Extract loss and validation loss from the history\n",
    "    training_loss = history.history['loss']\n",
    "    validation_loss = history.history['val_loss']\n",
    "    epochs = range(1, len(training_loss) + 1)\n",
    "    \n",
    "    # Plot the losses\n",
    "    plt.figure(figsize=(10, 6))\n",
    "    plt.plot(epochs, training_loss, 'bo-', label='Training Loss')\n",
    "    plt.plot(epochs, validation_loss, 'ro-', label='Validation Loss')\n",
    "    plt.title('Training and Validation Loss', fontsize=16)\n",
    "    plt.xlabel('Epochs', fontsize=14)\n",
    "    plt.ylabel('Loss', fontsize=14)\n",
    "    plt.legend(fontsize=12)\n",
    "    plt.grid(True)\n",
    "    plt.show()\n",
    "\n",
    "\n",
    "print(plot_training_history(history))"
   ]
  },
  {
   "cell_type": "markdown",
   "id": "742095fb",
   "metadata": {},
   "source": [
    "## Criteria\n",
    "\n",
    "|Criteria|Complete|Incomplete|\n",
    "|----|----|----|\n",
    "|Task 1|The task has been completed successfully and there are no errors.|The task is still incomplete and there is at least one error.|\n",
    "|Task 2|The task has been completed successfully and there are no errors.|The task is still incomplete and there is at least one error.|\n",
    "|Task 3|The task has been completed successfully and there are no errors.|The task is still incomplete and there is at least one error.|\n",
    "|Task 4|The task has been completed successfully and there are no errors.|The task is still incomplete and there is at least one error.|"
   ]
  },
  {
   "cell_type": "markdown",
   "id": "1990e2d2",
   "metadata": {},
   "source": [
    "## Submission Information\n",
    "\n",
    "🚨**Please review our [Assignment Submission Guide](https://github.com/UofT-DSI/onboarding/blob/main/onboarding_documents/submissions.md)**🚨 for detailed instructions on how to format, branch, and submit your work. Following these guidelines is crucial for your submissions to be evaluated correctly.\n",
    "\n",
    "### Submission Parameters:\n",
    "* Submission Due Date: `HH:MM AM/PM - DD/MM/YYYY`\n",
    "* The branch name for your repo should be: `assignment-2`\n",
    "* What to submit for this assignment:\n",
    "    * This Jupyter Notebook (assignment_2.ipynb) should be populated and should be the only change in your pull request.\n",
    "* What the pull request link should look like for this assignment: `https://github.com/<your_github_username>/deep_learning/pull/<pr_id>`\n",
    "    * Open a private window in your browser. Copy and paste the link to your pull request into the address bar. Make sure you can see your pull request properly. This helps the technical facilitator and learning support staff review your submission easily.\n",
    "\n",
    "Checklist:\n",
    "- [ ] Created a branch with the correct naming convention.\n",
    "- [ ] Ensured that the repository is public.\n",
    "- [ ] Reviewed the PR description guidelines and adhered to them.\n",
    "- [ ] Verify that the link is accessible in a private browser window.\n",
    "\n",
    "If you encounter any difficulties or have questions, please don't hesitate to reach out to our team via our Slack at `#cohort-3-help`. Our Technical Facilitators and Learning Support staff are here to help you navigate any challenges."
   ]
  }
 ],
 "metadata": {
  "accelerator": "GPU",
  "colab": {
   "gpuType": "T4",
   "provenance": []
  },
  "kernelspec": {
   "display_name": "base",
   "language": "python",
   "name": "python3"
  },
  "language_info": {
   "codemirror_mode": {
    "name": "ipython",
    "version": 3
   },
   "file_extension": ".py",
   "mimetype": "text/x-python",
   "name": "python",
   "nbconvert_exporter": "python",
   "pygments_lexer": "ipython3",
   "version": "3.9.19"
  }
 },
 "nbformat": 4,
 "nbformat_minor": 5
}
